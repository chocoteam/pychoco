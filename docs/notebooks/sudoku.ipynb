{
 "cells": [
  {
   "cell_type": "markdown",
   "source": [
    "# Sudoku Solver\n",
    "\n",
    "In this example, we will design a simple Sudoku Solver.\n",
    "\n",
    "First lets import the necessary libraries:"
   ],
   "metadata": {
    "collapsed": false
   }
  },
  {
   "cell_type": "code",
   "execution_count": 35,
   "outputs": [],
   "source": [
    "from pychoco import *"
   ],
   "metadata": {
    "collapsed": false
   }
  },
  {
   "cell_type": "markdown",
   "source": [
    "Below is our Sudoku instance. All zeros correspond to empty cells."
   ],
   "metadata": {
    "collapsed": false
   }
  },
  {
   "cell_type": "code",
   "execution_count": 36,
   "outputs": [],
   "source": [
    "sudoku = [\n",
    "    [4, 0, 2, 0, 0, 0, 9, 7, 3],\n",
    "    [0, 0, 0, 7, 4, 0, 6, 0, 8],\n",
    "    [8, 0, 0, 0, 0, 9, 5, 1, 4],\n",
    "    [7, 0, 0, 0, 0, 8, 0, 0, 0],\n",
    "    [5, 9, 3, 0, 0, 6, 1, 8, 0],\n",
    "    [0, 2, 8, 0, 0, 0, 0, 5, 9],\n",
    "    [3, 1, 0, 0, 0, 2, 8, 9, 5],\n",
    "    [0, 0, 0, 0, 8, 0, 0, 4, 1],\n",
    "    [9, 0, 7, 1, 0, 4, 2, 0, 6]\n",
    "]"
   ],
   "metadata": {
    "collapsed": false
   }
  },
  {
   "cell_type": "markdown",
   "source": [
    "The goal of the Sudoku is to fill every empty cell (in our case zeros)\n",
    "with number comprised between 1 and 9 such that each row, each column, and each of the\n",
    "nine 3x3 subgrids contain the numbers from 1 to 9 without repetition. It is easy to model\n",
    "a Sudoku solver with pychoco."
   ],
   "metadata": {
    "collapsed": false
   }
  },
  {
   "cell_type": "code",
   "execution_count": 37,
   "outputs": [],
   "source": [
    "model = Model(\"Sudoku Solver\") # Import pychoco\n",
    "\n",
    "# Define a function to instantiate the integer variables of the model:\n",
    "# - If the cell is empty (zero), create a variable with the domain [1, 9];\n",
    "# - Otherwise, create a constant variable.\n",
    "def make_var(row, col):\n",
    "    value = sudoku[row][col]\n",
    "    if value != 0:\n",
    "        return model.intvar(value)\n",
    "    return model.intvar(1, 9)\n",
    "\n",
    "# Instantiate the variables of the model\n",
    "intvars = [[make_var(row, col) for col in range(0, 9)] for row in range(0, 9)]\n",
    "\n",
    "# For each row, post an all_different constraint\n",
    "for row in range(0, 9):\n",
    "    var_line = intvars[row]\n",
    "    model.all_different(var_line).post()\n",
    "\n",
    "# For each column, post an all_different constraint\n",
    "for col in range(0, 9):\n",
    "    var_column = [row[col] for row in intvars]\n",
    "    model.all_different(var_column).post()\n",
    "\n",
    "# For each 3x3 subgrid, post an all_different constraint\n",
    "for i in range(0, 3):\n",
    "    line = intvars[i * 3 : i * 3 + 3]\n",
    "    for j in range(0, 3):\n",
    "        var_subgrid = sum([l[j * 3 : j * 3 + 3] for l in line], [])\n",
    "        model.all_different(var_subgrid).post()"
   ],
   "metadata": {
    "collapsed": false
   }
  },
  {
   "cell_type": "markdown",
   "source": [
    "We can now solve our Sudoku by calling the solver, and display the solution."
   ],
   "metadata": {
    "collapsed": false
   }
  },
  {
   "cell_type": "code",
   "execution_count": 38,
   "outputs": [
    {
     "name": "stdout",
     "output_type": "stream",
     "text": [
      "1\n",
      "[4, 5, 2, 8, 6, 1, 9, 7, 3]\n",
      "[1, 3, 9, 7, 4, 5, 6, 2, 8]\n",
      "[8, 7, 6, 2, 3, 9, 5, 1, 4]\n",
      "[7, 4, 1, 5, 9, 8, 3, 6, 2]\n",
      "[5, 9, 3, 4, 2, 6, 1, 8, 7]\n",
      "[6, 2, 8, 3, 1, 7, 4, 5, 9]\n",
      "[3, 1, 4, 6, 7, 2, 8, 9, 5]\n",
      "[2, 6, 5, 9, 8, 3, 7, 4, 1]\n",
      "[9, 8, 7, 1, 5, 4, 2, 3, 6]\n"
     ]
    }
   ],
   "source": [
    "solution = model.get_solver().find_all_solutions()\n",
    "print(len(solution))\n",
    "sol = solution[0]\n",
    "for row in range(0, 9):\n",
    "    line = [sol.get_int_val(v) for v in intvars[row]]\n",
    "    print(line)"
   ],
   "metadata": {
    "collapsed": false
   }
  },
  {
   "cell_type": "code",
   "execution_count": null,
   "outputs": [],
   "source": [],
   "metadata": {
    "collapsed": false
   }
  }
 ],
 "metadata": {
  "kernelspec": {
   "display_name": "Python 3",
   "language": "python",
   "name": "python3"
  },
  "language_info": {
   "codemirror_mode": {
    "name": "ipython",
    "version": 2
   },
   "file_extension": ".py",
   "mimetype": "text/x-python",
   "name": "python",
   "nbconvert_exporter": "python",
   "pygments_lexer": "ipython2",
   "version": "2.7.6"
  }
 },
 "nbformat": 4,
 "nbformat_minor": 0
}
